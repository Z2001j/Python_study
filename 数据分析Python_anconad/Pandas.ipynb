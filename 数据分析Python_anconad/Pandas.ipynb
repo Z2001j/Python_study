{
 "cells": [
  {
   "cell_type": "markdown",
   "id": "68d37420",
   "metadata": {},
   "source": [
    "# Pandas数据结构"
   ]
  },
  {
   "cell_type": "markdown",
   "id": "6277dd64",
   "metadata": {},
   "source": [
    "导入Pandas"
   ]
  },
  {
   "cell_type": "code",
   "execution_count": 1,
   "id": "dccd423e",
   "metadata": {},
   "outputs": [],
   "source": [
    "import numpy as np\n",
    "import pandas as pd"
   ]
  },
  {
   "cell_type": "markdown",
   "id": "ac805a60",
   "metadata": {},
   "source": [
    "## Series"
   ]
  },
  {
   "cell_type": "markdown",
   "id": "c98c257c",
   "metadata": {},
   "source": [
    "Series是一种类似于一维数组的对象，由下面两个部分组成：\n",
    "    \n",
    "    ·values：一组数据(ndarray类型)\n",
    "    ·index：相关的数据索引标签"
   ]
  },
  {
   "cell_type": "markdown",
   "id": "1603301f",
   "metadata": {},
   "source": [
    "#### 1）Series的创建"
   ]
  },
  {
   "cell_type": "markdown",
   "id": "d94688a0",
   "metadata": {},
   "source": [
    "两种创建方式：\n",
    "    \n",
    "    （1)由列表或Numpy数组创建\n",
    "        \n",
    "        ·默认索引为0到N-1的整数型索引"
   ]
  },
  {
   "cell_type": "code",
   "execution_count": 3,
   "id": "e637b99c",
   "metadata": {},
   "outputs": [
    {
     "data": {
      "text/plain": [
       "0    11\n",
       "1    22\n",
       "2    33\n",
       "3    44\n",
       "dtype: int32"
      ]
     },
     "execution_count": 3,
     "metadata": {},
     "output_type": "execute_result"
    }
   ],
   "source": [
    "list1 = [11,22,33,44]\n",
    "s = pd.Series(list1)\n",
    "s\n",
    "\n",
    "n = np.array(list1)\n",
    "s = pd.Series(n)\n",
    "s"
   ]
  },
  {
   "cell_type": "markdown",
   "id": "854b5fb5",
   "metadata": {},
   "source": [
    "        \n",
    "        ·index和values"
   ]
  },
  {
   "cell_type": "code",
   "execution_count": 5,
   "id": "a4c29835",
   "metadata": {},
   "outputs": [
    {
     "data": {
      "text/plain": [
       "array([11, 22, 33, 44])"
      ]
     },
     "execution_count": 5,
     "metadata": {},
     "output_type": "execute_result"
    }
   ],
   "source": [
    "# 值\n",
    "s.values\n",
    "# ndarray的一维数组"
   ]
  },
  {
   "cell_type": "code",
   "execution_count": 6,
   "id": "f7a754da",
   "metadata": {},
   "outputs": [
    {
     "data": {
      "text/plain": [
       "[0, 1, 2, 3]"
      ]
     },
     "execution_count": 6,
     "metadata": {},
     "output_type": "execute_result"
    }
   ],
   "source": [
    "# 索引\n",
    "s.index\n",
    "list(s.index)"
   ]
  },
  {
   "cell_type": "code",
   "execution_count": 10,
   "id": "dde78fbe",
   "metadata": {},
   "outputs": [
    {
     "data": {
      "text/plain": [
       "B    11\n",
       "C    22\n",
       "D    33\n",
       "E    44\n",
       "dtype: int32"
      ]
     },
     "execution_count": 10,
     "metadata": {},
     "output_type": "execute_result"
    }
   ],
   "source": [
    "# 修改索引index\n",
    "s.index = ['A','B','C','D']\n",
    "s.index = list('BCDE')\n",
    "s"
   ]
  },
  {
   "cell_type": "code",
   "execution_count": 11,
   "id": "86ca153d",
   "metadata": {},
   "outputs": [
    {
     "data": {
      "text/plain": [
       "11"
      ]
     },
     "execution_count": 11,
     "metadata": {},
     "output_type": "execute_result"
    }
   ],
   "source": [
    "# 通过index获取值\n",
    "s.B"
   ]
  },
  {
   "cell_type": "code",
   "execution_count": 12,
   "id": "aae74bd6",
   "metadata": {
    "scrolled": true
   },
   "outputs": [
    {
     "data": {
      "text/plain": [
       "B     11\n",
       "C     22\n",
       "D     33\n",
       "E    100\n",
       "dtype: int32"
      ]
     },
     "execution_count": 12,
     "metadata": {},
     "output_type": "execute_result"
    }
   ],
   "source": [
    "# 通过索引修改值\n",
    "s.E =100\n",
    "s"
   ]
  },
  {
   "cell_type": "markdown",
   "id": "0ff098e8",
   "metadata": {},
   "source": [
    "    \n",
    "    (2)由字典创建"
   ]
  },
  {
   "cell_type": "code",
   "execution_count": 14,
   "id": "159121ee",
   "metadata": {},
   "outputs": [
    {
     "data": {
      "text/plain": [
       "A    11\n",
       "B    22\n",
       "C    33\n",
       "D    44\n",
       "dtype: int64"
      ]
     },
     "execution_count": 14,
     "metadata": {},
     "output_type": "execute_result"
    }
   ],
   "source": [
    "d = {\n",
    "    'a':11,\n",
    "    'b':22,\n",
    "    'c':33,\n",
    "    'd':44\n",
    "}\n",
    "s = pd.Series(d)\n",
    "s\n",
    "s.index = list('ABCD')\n",
    "s"
   ]
  },
  {
   "cell_type": "code",
   "execution_count": 15,
   "id": "ed8a1e42",
   "metadata": {},
   "outputs": [
    {
     "data": {
      "text/plain": [
       "a    [[0, 8, 9], [5, 9, 1]]\n",
       "b    [[5, 1, 1], [3, 0, 5]]\n",
       "c    [[6, 2, 1], [5, 1, 9]]\n",
       "d    [[3, 7, 5], [2, 6, 6]]\n",
       "dtype: object"
      ]
     },
     "execution_count": 15,
     "metadata": {},
     "output_type": "execute_result"
    }
   ],
   "source": [
    "d={\n",
    "    'a':np.random.randint(0,10,size=(2,3)),\n",
    "    'b':np.random.randint(0,10,size=(2,3)),\n",
    "    'c':np.random.randint(0,10,size=(2,3)),\n",
    "    'd':np.random.randint(0,10,size=(2,3))\n",
    "}\n",
    "s = pd.Series(d)\n",
    "s"
   ]
  },
  {
   "cell_type": "code",
   "execution_count": 16,
   "id": "e3f2b20f",
   "metadata": {},
   "outputs": [
    {
     "data": {
      "text/plain": [
       "array([[0, 8, 9],\n",
       "       [5, 9, 1]])"
      ]
     },
     "execution_count": 16,
     "metadata": {},
     "output_type": "execute_result"
    }
   ],
   "source": [
    "s['a']"
   ]
  },
  {
   "cell_type": "code",
   "execution_count": 17,
   "id": "eb2e5294",
   "metadata": {},
   "outputs": [
    {
     "data": {
      "text/plain": [
       "鲁班    1\n",
       "李白    2\n",
       "杜甫    3\n",
       "dtype: int64"
      ]
     },
     "execution_count": 17,
     "metadata": {},
     "output_type": "execute_result"
    }
   ],
   "source": [
    "pd.Series([1,2,3],index=['鲁班','李白','杜甫'])"
   ]
  },
  {
   "cell_type": "markdown",
   "id": "e6cbe3c7",
   "metadata": {},
   "source": [
    "### 2)Series的索引"
   ]
  },
  {
   "cell_type": "markdown",
   "id": "7f3b5995",
   "metadata": {},
   "source": [
    "可以使用中括号单个索引（此时返回的是元素类型），或者中括号里一个列表取多个索引（此时返回的仍然是一个Series类型），分为显示索引和隐式索引："
   ]
  },
  {
   "cell_type": "markdown",
   "id": "bfafc2b0",
   "metadata": {},
   "source": [
    "（1）显示索引：\n",
    "    \n",
    "    ·使用index中的元素作为索引值\n",
    "    ·使用.loc[]（推荐）"
   ]
  },
  {
   "cell_type": "code",
   "execution_count": 20,
   "id": "bec1fead",
   "metadata": {},
   "outputs": [
    {
     "data": {
      "text/plain": [
       "Python    150\n",
       "NumPy     100\n",
       "Pandas    130\n",
       "dtype: int64"
      ]
     },
     "execution_count": 20,
     "metadata": {},
     "output_type": "execute_result"
    }
   ],
   "source": [
    "s = pd.Series({'Python':150,'NumPy':100,'Pandas':130})\n",
    "s"
   ]
  },
  {
   "cell_type": "code",
   "execution_count": 23,
   "id": "45b49e33",
   "metadata": {},
   "outputs": [
    {
     "data": {
      "text/plain": [
       "150"
      ]
     },
     "execution_count": 23,
     "metadata": {},
     "output_type": "execute_result"
    }
   ],
   "source": [
    "# 显示索引：使用索引名字\n",
    "s['NumPy']\n",
    "\n",
    "# 使用2个中括号得到的类型：Series\n",
    "# 一次取多个元素\n",
    "s[['Python','Pandas']]\n",
    "\n",
    "# 使用.loc[]\n",
    "s.loc['Python']"
   ]
  },
  {
   "cell_type": "markdown",
   "id": "bc1fa378",
   "metadata": {},
   "source": [
    "（2）隐式索引：\n",
    "    \n",
    "    ·使用整数作为索引值\n",
    "    ·使用.iloc[]（推荐）"
   ]
  },
  {
   "cell_type": "code",
   "execution_count": 24,
   "id": "4672afc3",
   "metadata": {},
   "outputs": [
    {
     "data": {
      "text/plain": [
       "Python    150\n",
       "NumPy     100\n",
       "Pandas    130\n",
       "dtype: int64"
      ]
     },
     "execution_count": 24,
     "metadata": {},
     "output_type": "execute_result"
    }
   ],
   "source": [
    "s"
   ]
  },
  {
   "cell_type": "code",
   "execution_count": 30,
   "id": "3ffcd386",
   "metadata": {},
   "outputs": [
    {
     "data": {
      "text/plain": [
       "Python    150\n",
       "NumPy     100\n",
       "Pandas    130\n",
       "dtype: int64"
      ]
     },
     "execution_count": 30,
     "metadata": {},
     "output_type": "execute_result"
    }
   ],
   "source": [
    "# 隐式索引：使用数字下标\n",
    "s[0]\n",
    "s[[0,2]]\n",
    "\n",
    "# 使用 iloc[]\n",
    "s.iloc[0]\n",
    "s.iloc[[0,1,2]]\n",
    "\n",
    "# 下面这两个写法是错误的\n",
    "# s.loc['Python']\n",
    "# s.loc[0]"
   ]
  },
  {
   "cell_type": "markdown",
   "id": "f3121bff",
   "metadata": {},
   "source": [
    "#### Series 的切片"
   ]
  },
  {
   "cell_type": "code",
   "execution_count": 32,
   "id": "7364ee69",
   "metadata": {},
   "outputs": [
    {
     "data": {
      "text/plain": [
       "语文        100\n",
       "数学        150\n",
       "英语        110\n",
       "Pyhton    130\n",
       "Pandas    150\n",
       "NumPy     150\n",
       "dtype: int64"
      ]
     },
     "execution_count": 32,
     "metadata": {},
     "output_type": "execute_result"
    }
   ],
   "source": [
    "s = pd.Series({\n",
    "    '语文':100,\n",
    "    '数学':150,\n",
    "    '英语':110,\n",
    "    'Pyhton':130,\n",
    "    'Pandas':150,\n",
    "    'NumPy':150\n",
    "})\n",
    "s"
   ]
  },
  {
   "cell_type": "code",
   "execution_count": 36,
   "id": "6e51fffe",
   "metadata": {},
   "outputs": [
    {
     "ename": "SyntaxError",
     "evalue": "invalid syntax (1185904667.py, line 9)",
     "output_type": "error",
     "traceback": [
      "\u001b[1;36m  Cell \u001b[1;32mIn[36], line 9\u001b[1;36m\u001b[0m\n\u001b[1;33m    s[['数学':'Python']]\u001b[0m\n\u001b[1;37m           ^\u001b[0m\n\u001b[1;31mSyntaxError\u001b[0m\u001b[1;31m:\u001b[0m invalid syntax\n"
     ]
    }
   ],
   "source": [
    "# 切片\n",
    "# Series是一维数组\n",
    "\n",
    "#隐式切片：左闭右开\n",
    "s[1:4]\n",
    "s.iloc[1:4]\n",
    "\n",
    "# 显示切片：左闭右闭\n",
    "s[['数学':'Python']]"
   ]
  }
 ],
 "metadata": {
  "kernelspec": {
   "display_name": "Python 3 (ipykernel)",
   "language": "python",
   "name": "python3"
  },
  "language_info": {
   "codemirror_mode": {
    "name": "ipython",
    "version": 3
   },
   "file_extension": ".py",
   "mimetype": "text/x-python",
   "name": "python",
   "nbconvert_exporter": "python",
   "pygments_lexer": "ipython3",
   "version": "3.11.5"
  }
 },
 "nbformat": 4,
 "nbformat_minor": 5
}
